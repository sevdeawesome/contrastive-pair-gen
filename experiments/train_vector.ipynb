{
 "cells": [
  {
   "cell_type": "code",
   "execution_count": null,
   "id": "d25b45b5-bb4b-4613-9954-b612a2a1e8a3",
   "metadata": {},
   "outputs": [],
   "source": [
    "to train, simply run:\n",
    "python steering_vectors_local.py --model gemma-3-12b-it"
   ]
  },
  {
   "cell_type": "code",
   "execution_count": null,
   "id": "816fa23c-5ca4-445d-817f-46c79bc0903c",
   "metadata": {},
   "outputs": [],
   "source": [
    "python steering_interface_local.py --model google/gemma-3-12b-it --share\n",
    "python steering_interface_local.py --model google/gemma-3-12b-pt --share"
   ]
  }
 ],
 "metadata": {
  "kernelspec": {
   "display_name": "Python 3 (ipykernel)",
   "language": "python",
   "name": "python3"
  },
  "language_info": {
   "codemirror_mode": {
    "name": "ipython",
    "version": 3
   },
   "file_extension": ".py",
   "mimetype": "text/x-python",
   "name": "python",
   "nbconvert_exporter": "python",
   "pygments_lexer": "ipython3",
   "version": "3.12.3"
  }
 },
 "nbformat": 4,
 "nbformat_minor": 5
}
